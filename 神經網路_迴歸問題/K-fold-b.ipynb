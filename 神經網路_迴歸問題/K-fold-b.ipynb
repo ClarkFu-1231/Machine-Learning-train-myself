{
 "cells": [
  {
   "cell_type": "code",
   "execution_count": 12,
   "metadata": {},
   "outputs": [
    {
     "name": "stdout",
     "output_type": "stream",
     "text": [
      "      crim    zn  indus  chas    nox     rm   age     dis  rad    tax  \\\n",
      "0  0.15876   0.0  10.81   0.0  0.413  5.961  17.5  5.2873  4.0  305.0   \n",
      "1  0.10328  25.0   5.13   0.0  0.453  5.927  47.2  6.9320  8.0  284.0   \n",
      "2  0.34940   0.0   9.90   0.0  0.544  5.972  76.7  3.1025  4.0  304.0   \n",
      "3  2.73397   0.0  19.58   0.0  0.871  5.597  94.9  1.5257  5.0  403.0   \n",
      "4  0.04337  21.0   5.64   0.0  0.439  6.115  63.0  6.8147  4.0  243.0   \n",
      "\n",
      "   ptratio   black  lstat  medv  \n",
      "0     19.2  376.94   9.88  21.7  \n",
      "1     19.7  396.90   9.22  19.6  \n",
      "2     18.4  396.24   9.97  20.3  \n",
      "3     14.7  351.85  21.45  15.4  \n",
      "4     16.8  393.97   9.43  20.5  \n",
      "(404, 14)\n"
     ]
    }
   ],
   "source": [
    "#使用Pandas 載入boston_data.csv\n",
    "import pandas as pd\n",
    "#呼叫Pandas的read_csv()載入boston_data.csv\n",
    "df = pd.read_csv(\"./boston_data.csv\")\n",
    "#呼叫head()顯示前五筆資料\n",
    "print(df.head())\n",
    "print(df.shape)#顯示共有幾筆紀錄和欄位"
   ]
  },
  {
   "cell_type": "code",
   "execution_count": 17,
   "metadata": {},
   "outputs": [],
   "source": [
    "#建立回歸分析的神經網路\n",
    "#使用keras 建構神經網路\n",
    "#適用K-fold 交叉驗證\n",
    "import numpy as np\n",
    "import pandas as pd\n",
    "from keras.models import Sequential\n",
    "from keras.layers import Dense"
   ]
  },
  {
   "cell_type": "code",
   "execution_count": 18,
   "metadata": {},
   "outputs": [],
   "source": [
    "#指定亂數種子\n",
    "np.random.seed(7)"
   ]
  },
  {
   "cell_type": "code",
   "execution_count": 19,
   "metadata": {},
   "outputs": [],
   "source": [
    "#載入資料集\n",
    "df = pd.read_csv(\"./boston_data.csv\")\n",
    "dataset = df.values\n",
    "np.random.shuffle(dataset)"
   ]
  },
  {
   "cell_type": "code",
   "execution_count": 20,
   "metadata": {},
   "outputs": [],
   "source": [
    "#使用Pandas載入CSV檔案，使用values屬性轉換成NumPy陣列\n",
    "#分隔成前13個欄位的特徵資料和第14個欄位的標籤資料\n",
    "X = dataset[:, 0:13]\n",
    "Y = dataset[:, 13]\n",
    "X -= X.mean(axis=0)\n",
    "X /= X.std(axis=0)\n",
    "X_train, Y_train = X[:283], Y[:283]  #訓練資料(80%)\n",
    "X_test, Y_test = X[283:], Y[283:]  #測試資料(20%)"
   ]
  },
  {
   "cell_type": "code",
   "execution_count": 21,
   "metadata": {},
   "outputs": [],
   "source": [
    "#建立build_model()建立模型\n",
    "#使用比較深的四層神經網路\n",
    "def build_model():\n",
    "    model = Sequential()\n",
    "    model.add(Dense(32, input_shape=(X_train.shape[1], ), activation=\"relu\")) #No.1 隱藏層 神經元素為32\n",
    "    model.add(Dense(16, activation=\"relu\")) #No.2 隱藏層 神經元素為16\n",
    "    model.add(Dense(1))\n",
    "    model.compile(loss=\"mse\", optimizer=\"adam\", metrics=[\"mae\"]) #compile()使用的損失函數MSE,評估標準metrics是MAE\n",
    "    #反映預測值與標籤值誤差實際情況\n",
    "    return model"
   ]
  },
  {
   "cell_type": "code",
   "execution_count": 22,
   "metadata": {},
   "outputs": [],
   "source": [
    "#K-fold交叉驗證\n",
    "k=4 \n",
    "nb_val_samples = len(X_train) // k #每一折的樣本數\n",
    "nb_epochs = 80 #訓練週期\n",
    "mse_scores = [] #mse_scores紀錄mse每一次的迴圈評估模型\n",
    "mae_scores = [] #mae_scores紀錄mae每一次的迴圈評估模型"
   ]
  },
  {
   "cell_type": "code",
   "execution_count": 23,
   "metadata": {},
   "outputs": [
    {
     "name": "stdout",
     "output_type": "stream",
     "text": [
      "Processing Fold #0\n",
      "3/3 [==============================] - 0s 0s/step - loss: 20.6420 - mae: 2.7007\n",
      "Processing Fold #1\n",
      "3/3 [==============================] - 0s 0s/step - loss: 33.4167 - mae: 3.6178\n",
      "Processing Fold #2\n",
      "3/3 [==============================] - 0s 0s/step - loss: 15.1179 - mae: 2.8787\n",
      "Processing Fold #3\n",
      "WARNING:tensorflow:5 out of the last 17 calls to <function Model.make_test_function.<locals>.test_function at 0x000001A928B23D30> triggered tf.function retracing. Tracing is expensive and the excessive number of tracings could be due to (1) creating @tf.function repeatedly in a loop, (2) passing tensors with different shapes, (3) passing Python objects instead of tensors. For (1), please define your @tf.function outside of the loop. For (2), @tf.function has experimental_relax_shapes=True option that relaxes argument shapes that can avoid unnecessary retracing. For (3), please refer to https://www.tensorflow.org/guide/function#controlling_retracing and https://www.tensorflow.org/api_docs/python/tf/function for  more details.\n",
      "3/3 [==============================] - 0s 10ms/step - loss: 9.9584 - mae: 2.5848\n"
     ]
    }
   ],
   "source": [
    "#for迴圈共執行K=4次\n",
    "#使用切割運算子取出第K個驗證資料集X_val和Y_val\n",
    "for i in range(k):\n",
    "    print(\"Processing Fold #\" +str(i))\n",
    "    X_val = X_train[i*nb_val_samples: (i+1)*nb_val_samples]\n",
    "    Y_val = Y_train[i*nb_val_samples: (i+1)*nb_val_samples]\n",
    "    #使用concatenate()結合剩下的折建立X_train_p和Y_train_p\n",
    "    X_train_p = np.concatenate(\n",
    "            [X_train[:i*nb_val_samples],\n",
    "             X_train[(i+1)*nb_val_samples:]], axis=0)\n",
    "    Y_train_p = np.concatenate(\n",
    "            [Y_train[:i*nb_val_samples],\n",
    "             Y_train[(i+1)*nb_val_samples:]], axis=0)\n",
    "    #呼叫build_model()建立神經網路模型\n",
    "    model = build_model()\n",
    "    model.fit(X_train_p, Y_train_p, epochs=nb_epochs, batch_size=16, verbose=0) #fit()訓練模型\n",
    "    mse, mae = model.evaluate(X_val, Y_val) #evaluate()評估模型\n",
    "    mse_scores.append(mse) #mse評估結果儲存\n",
    "    mae_scores.append(mae) #mae評估結果儲存"
   ]
  },
  {
   "cell_type": "code",
   "execution_count": 24,
   "metadata": {},
   "outputs": [
    {
     "name": "stdout",
     "output_type": "stream",
     "text": [
      "MSE_val:  19.783714056015015\n",
      "MAE_val:  2.9454989433288574\n",
      "4/4 [==============================] - 0s 4ms/step - loss: 10.6027 - mae: 2.3490\n",
      "MSE_test:  10.60269546508789\n",
      "MAE_test:  2.349008560180664\n"
     ]
    }
   ],
   "source": [
    "#顯示完成4次迴圈後的K-fold交叉驗證的MSE和MAE的平均值\n",
    "print(\"MSE_val: \", np.mean(mse_scores))\n",
    "print(\"MAE_val: \", np.mean(mae_scores))\n",
    "mse, mae= model.evaluate(X_test, Y_test)\n",
    "print(\"MSE_test: \",mse)\n",
    "print(\"MAE_test: \",mae)"
   ]
  },
  {
   "cell_type": "code",
   "execution_count": null,
   "metadata": {},
   "outputs": [],
   "source": []
  },
  {
   "cell_type": "code",
   "execution_count": null,
   "metadata": {},
   "outputs": [],
   "source": []
  }
 ],
 "metadata": {
  "kernelspec": {
   "display_name": "Python 3",
   "language": "python",
   "name": "python3"
  },
  "language_info": {
   "codemirror_mode": {
    "name": "ipython",
    "version": 3
   },
   "file_extension": ".py",
   "mimetype": "text/x-python",
   "name": "python",
   "nbconvert_exporter": "python",
   "pygments_lexer": "ipython3",
   "version": "3.8.5"
  }
 },
 "nbformat": 4,
 "nbformat_minor": 4
}
